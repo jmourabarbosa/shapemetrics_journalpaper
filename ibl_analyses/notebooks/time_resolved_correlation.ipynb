{
 "cells": [
  {
   "cell_type": "code",
   "execution_count": 11,
   "metadata": {},
   "outputs": [
    {
     "name": "stdout",
     "output_type": "stream",
     "text": [
      "The autoreload extension is already loaded. To reload it, use:\n",
      "  %reload_ext autoreload\n"
     ]
    }
   ],
   "source": [
    "\n",
    "import jax.numpy as jnp\n",
    "\n",
    "import sys\n",
    "sys.path.insert(1,'../scripts/')\n",
    "\n",
    "\n",
    "import utils\n",
    "import loader\n",
    "import tqdm\n",
    "%load_ext autoreload\n",
    "%autoreload 2\n",
    "import imp\n",
    "imp.reload(loader)\n",
    "import setup\n",
    "import scipy.stats as sts\n",
    "from matplotlib import pyplot as plt\n",
    "\n",
    "import numpy as np\n",
    "import seaborn as sns \n",
    "import matplotlib as mpl\n",
    "new_rc_params = {'text.usetex': False,\n",
    "\"svg.fonttype\": 'none'\n",
    "}\n",
    "mpl.rcParams.update(new_rc_params)"
   ]
  },
  {
   "cell_type": "code",
   "execution_count": 2,
   "metadata": {},
   "outputs": [],
   "source": [
    "def get_corr_time(train_data_folds,test_data_folds,n_folds=100,w=10):\n",
    "\n",
    "    all_corrs = np.zeros((n_folds,len(_ys[0])-w))*np.nan\n",
    "\n",
    "\n",
    "    for fold in tqdm.trange(n_folds):\n",
    "        \n",
    "        train_fold, test_fold = train_data_folds[fold],test_data_folds[fold]\n",
    "        ys_time,_ = zip(*train_fold)\n",
    "        _,cs_time = zip(*test_fold)\n",
    "\n",
    "        # fitler out sessions with too few neurons or trials\n",
    "        min_neurons = 100\n",
    "        min_trials = 20\n",
    "\n",
    "        valid = [i for i in range(len(ys_time)) if np.array(_ys[i]).shape[-1] >= min_neurons and np.array(_ys[i]).shape[1] >= min_trials]\n",
    "        ys_time = [ys_time[i] for i in valid]\n",
    "        cs = [cs_time[i] for i in valid]\n",
    "\n",
    "        S = len(ys_time)\n",
    "\n",
    "\n",
    "        for t in range(len(ys_time[0])-w):\n",
    "\n",
    "            # get best min_neurons and current time point +window\n",
    "            all_sessions = []\n",
    "            for session in range(S):\n",
    "                ys_sess = ys_time[session][t:t+w,:].reshape(-1,ys_time[session].shape[-1])\n",
    "                ys_sess = ys_sess[:,np.argsort(ys_sess.std(0))][:,:min_neurons]\n",
    "                all_sessions.append(ys_sess)\n",
    "\n",
    "            try:\n",
    "                dist_neural = utils.dsd([\n",
    "                    [all_sessions[i],all_sessions[j]]\n",
    "                    for i in range(S) \n",
    "                    for j in range(S)]\n",
    "                ).reshape(S,S)\n",
    "\n",
    "\n",
    "                dist_cc = np.zeros((S,S))\n",
    "                for i in range(S):\n",
    "                    for j in range(S):\n",
    "                        dist_cc[i,j] = np.mean(np.abs(cs[i]- cs[j]))\n",
    "\n",
    "                corr = sts.pearsonr(dist_neural[~jnp.eye(dist_neural.shape[0],dtype=bool)],\n",
    "                        dist_cc[~jnp.eye(dist_cc.shape[0],dtype=bool)])[0]\n",
    "                \n",
    "            except Exception as e:\n",
    "\n",
    "                print(t,fold,\"linalg error/nan\")\n",
    "                continue\n",
    "            \n",
    "            all_corrs[fold,t]=corr\n",
    "\n",
    "    return all_corrs\n",
    "\n",
    "\n"
   ]
  },
  {
   "cell_type": "code",
   "execution_count": 3,
   "metadata": {},
   "outputs": [
    {
     "name": "stderr",
     "output_type": "stream",
     "text": [
      "  0%|          | 0/25 [00:00<?, ?it/s]2024-07-30 12:41:34,451\tINFO worker.py:1788 -- Started a local Ray instance.\n"
     ]
    },
    {
     "name": "stdout",
     "output_type": "stream",
     "text": [
      "20 0 linalg error/nan\n",
      "109 0 linalg error/nan\n",
      "124 0 linalg error/nan\n",
      "128 0 linalg error/nan\n"
     ]
    },
    {
     "name": "stderr",
     "output_type": "stream",
     "text": [
      "  4%|▍         | 1/25 [03:16<1:18:32, 196.35s/it]"
     ]
    },
    {
     "name": "stdout",
     "output_type": "stream",
     "text": [
      "22 1 linalg error/nan\n",
      "99 1 linalg error/nan\n",
      "120 1 linalg error/nan\n",
      "130 1 linalg error/nan\n"
     ]
    },
    {
     "name": "stderr",
     "output_type": "stream",
     "text": [
      "  8%|▊         | 2/25 [06:25<1:13:41, 192.24s/it]"
     ]
    },
    {
     "name": "stdout",
     "output_type": "stream",
     "text": [
      "58 2 linalg error/nan\n",
      "101 2 linalg error/nan\n"
     ]
    },
    {
     "name": "stderr",
     "output_type": "stream",
     "text": [
      " 12%|█▏        | 3/25 [09:31<1:09:25, 189.35s/it]"
     ]
    },
    {
     "name": "stdout",
     "output_type": "stream",
     "text": [
      "0 3 linalg error/nan\n",
      "70 3 linalg error/nan\n",
      "83 3 linalg error/nan\n"
     ]
    },
    {
     "name": "stderr",
     "output_type": "stream",
     "text": [
      "2024-07-30 12:52:54,007\tERROR worker.py:409 -- Unhandled error (suppress with 'RAY_IGNORE_UNHANDLED_ERRORS=1'): \u001b[36mray::_deterministic_metrics_pair()\u001b[39m (pid=15850, ip=127.0.0.1)\n",
      "  File \"/Users/jbarbosa/Dropbox/Neuro/papers/shapemetrics_journalpaper/ibl_analyses/notebooks/../utils.py\", line 43, in _deterministic_metrics_pair\n",
      "    metric.fit(Xi,Xj)\n",
      "  File \"/Users/jbarbosa/Dropbox/Neuro/netrep/netrep/metrics/linear.py\", line 109, in fit\n",
      "    return self.finalize_fit(\n",
      "           ^^^^^^^^^^^^^^^^^^\n",
      "  File \"/Users/jbarbosa/Dropbox/Neuro/netrep/netrep/metrics/linear.py\", line 91, in finalize_fit\n",
      "    U, _, Vt = np.linalg.svd(Xw.T @ Yw)\n",
      "               ^^^^^^^^^^^^^^^^^^^^^^^^\n",
      "  File \"<__array_function__ internals>\", line 180, in svd\n",
      "  File \"/Users/jbarbosa/anaconda3/envs/netrep/lib/python3.11/site-packages/numpy/linalg/linalg.py\", line 1657, in svd\n",
      "    u, s, vh = gufunc(a, signature=signature, extobj=extobj)\n",
      "               ^^^^^^^^^^^^^^^^^^^^^^^^^^^^^^^^^^^^^^^^^^^^^\n",
      "  File \"/Users/jbarbosa/anaconda3/envs/netrep/lib/python3.11/site-packages/numpy/linalg/linalg.py\", line 98, in _raise_linalgerror_svd_nonconvergence\n",
      "    raise LinAlgError(\"SVD did not converge\")\n",
      "numpy.linalg.LinAlgError: SVD did not converge\n"
     ]
    },
    {
     "name": "stdout",
     "output_type": "stream",
     "text": [
      "88 3 linalg error/nan\n"
     ]
    },
    {
     "name": "stderr",
     "output_type": "stream",
     "text": [
      " 16%|█▌        | 4/25 [12:40<1:06:08, 188.97s/it]"
     ]
    },
    {
     "name": "stdout",
     "output_type": "stream",
     "text": [
      "64 4 linalg error/nan\n",
      "68 4 linalg error/nan\n",
      "83 4 linalg error/nan\n",
      "119 4 linalg error/nan\n"
     ]
    },
    {
     "name": "stderr",
     "output_type": "stream",
     "text": [
      " 20%|██        | 5/25 [15:51<1:03:15, 189.78s/it]"
     ]
    },
    {
     "name": "stdout",
     "output_type": "stream",
     "text": [
      "26 5 linalg error/nan\n",
      "46 5 linalg error/nan\n",
      "66 5 linalg error/nan\n",
      "102 5 linalg error/nan\n",
      "135 5 linalg error/nan\n"
     ]
    },
    {
     "name": "stderr",
     "output_type": "stream",
     "text": [
      " 24%|██▍       | 6/25 [18:49<58:48, 185.70s/it]  "
     ]
    },
    {
     "name": "stdout",
     "output_type": "stream",
     "text": [
      "60 6 linalg error/nan\n",
      "95 6 linalg error/nan\n"
     ]
    },
    {
     "name": "stderr",
     "output_type": "stream",
     "text": [
      " 28%|██▊       | 7/25 [21:47<55:01, 183.42s/it]"
     ]
    },
    {
     "name": "stdout",
     "output_type": "stream",
     "text": [
      "32 7 linalg error/nan\n",
      "55 7 linalg error/nan\n",
      "93 7 linalg error/nan\n",
      "94 7 linalg error/nan\n",
      "138 7 linalg error/nan\n"
     ]
    },
    {
     "name": "stderr",
     "output_type": "stream",
     "text": [
      " 32%|███▏      | 8/25 [25:17<54:21, 191.88s/it]"
     ]
    },
    {
     "name": "stdout",
     "output_type": "stream",
     "text": [
      "28 8 linalg error/nan\n",
      "46 8 linalg error/nan\n",
      "55 8 linalg error/nan\n",
      "84 8 linalg error/nan\n"
     ]
    },
    {
     "name": "stderr",
     "output_type": "stream",
     "text": [
      " 36%|███▌      | 9/25 [28:21<50:31, 189.48s/it]"
     ]
    },
    {
     "name": "stdout",
     "output_type": "stream",
     "text": [
      "57 9 linalg error/nan\n",
      "83 9 linalg error/nan\n",
      "96 9 linalg error/nan\n"
     ]
    },
    {
     "name": "stderr",
     "output_type": "stream",
     "text": [
      " 40%|████      | 10/25 [31:36<47:47, 191.15s/it]"
     ]
    },
    {
     "name": "stdout",
     "output_type": "stream",
     "text": [
      "20 10 linalg error/nan\n",
      "63 10 linalg error/nan\n",
      "78 10 linalg error/nan\n"
     ]
    },
    {
     "name": "stderr",
     "output_type": "stream",
     "text": [
      " 44%|████▍     | 11/25 [34:32<43:29, 186.42s/it]"
     ]
    },
    {
     "name": "stdout",
     "output_type": "stream",
     "text": [
      "62 11 linalg error/nan\n",
      "76 11 linalg error/nan\n"
     ]
    },
    {
     "name": "stderr",
     "output_type": "stream",
     "text": [
      " 48%|████▊     | 12/25 [37:39<40:25, 186.54s/it]"
     ]
    },
    {
     "name": "stdout",
     "output_type": "stream",
     "text": [
      "39 12 linalg error/nan\n"
     ]
    },
    {
     "name": "stderr",
     "output_type": "stream",
     "text": [
      " 52%|█████▏    | 13/25 [40:32<36:28, 182.39s/it]"
     ]
    },
    {
     "name": "stdout",
     "output_type": "stream",
     "text": [
      "45 13 linalg error/nan\n",
      "86 13 linalg error/nan\n",
      "124 13 linalg error/nan\n"
     ]
    },
    {
     "name": "stderr",
     "output_type": "stream",
     "text": [
      " 56%|█████▌    | 14/25 [43:03<31:42, 172.95s/it]"
     ]
    },
    {
     "name": "stdout",
     "output_type": "stream",
     "text": [
      "29 14 linalg error/nan\n",
      "137 14 linalg error/nan\n"
     ]
    },
    {
     "name": "stderr",
     "output_type": "stream",
     "text": [
      " 60%|██████    | 15/25 [45:50<28:31, 171.13s/it]"
     ]
    },
    {
     "name": "stdout",
     "output_type": "stream",
     "text": [
      "30 15 linalg error/nan\n"
     ]
    },
    {
     "name": "stderr",
     "output_type": "stream",
     "text": [
      " 64%|██████▍   | 16/25 [48:20<24:43, 164.85s/it]"
     ]
    },
    {
     "name": "stdout",
     "output_type": "stream",
     "text": [
      "23 16 linalg error/nan\n",
      "79 16 linalg error/nan\n",
      "103 16 linalg error/nan\n"
     ]
    },
    {
     "name": "stderr",
     "output_type": "stream",
     "text": [
      " 68%|██████▊   | 17/25 [50:53<21:29, 161.19s/it]"
     ]
    },
    {
     "name": "stdout",
     "output_type": "stream",
     "text": [
      "3 17 linalg error/nan\n",
      "76 17 linalg error/nan\n",
      "114 17 linalg error/nan\n"
     ]
    },
    {
     "name": "stderr",
     "output_type": "stream",
     "text": [
      " 72%|███████▏  | 18/25 [53:22<18:23, 157.58s/it]"
     ]
    },
    {
     "name": "stdout",
     "output_type": "stream",
     "text": [
      "34 18 linalg error/nan\n"
     ]
    },
    {
     "name": "stderr",
     "output_type": "stream",
     "text": [
      " 76%|███████▌  | 19/25 [55:55<15:37, 156.20s/it]"
     ]
    },
    {
     "name": "stdout",
     "output_type": "stream",
     "text": [
      "23 19 linalg error/nan\n"
     ]
    },
    {
     "name": "stderr",
     "output_type": "stream",
     "text": [
      " 80%|████████  | 20/25 [58:29<12:58, 155.61s/it]"
     ]
    },
    {
     "name": "stdout",
     "output_type": "stream",
     "text": [
      "136 20 linalg error/nan\n"
     ]
    },
    {
     "name": "stderr",
     "output_type": "stream",
     "text": [
      " 84%|████████▍ | 21/25 [1:01:03<10:20, 155.02s/it]"
     ]
    },
    {
     "name": "stdout",
     "output_type": "stream",
     "text": [
      "124 21 linalg error/nan\n"
     ]
    },
    {
     "name": "stderr",
     "output_type": "stream",
     "text": [
      " 88%|████████▊ | 22/25 [1:03:34<07:41, 153.83s/it]"
     ]
    },
    {
     "name": "stdout",
     "output_type": "stream",
     "text": [
      "3 22 linalg error/nan\n",
      "51 22 linalg error/nan\n",
      "84 22 linalg error/nan\n"
     ]
    },
    {
     "name": "stderr",
     "output_type": "stream",
     "text": [
      " 92%|█████████▏| 23/25 [1:08:08<06:19, 189.92s/it]"
     ]
    },
    {
     "name": "stdout",
     "output_type": "stream",
     "text": [
      "13 23 linalg error/nan\n",
      "17 23 linalg error/nan\n",
      "73 23 linalg error/nan\n",
      "95 23 linalg error/nan\n"
     ]
    },
    {
     "name": "stderr",
     "output_type": "stream",
     "text": [
      "100%|██████████| 25/25 [1:18:33<00:00, 188.54s/it]\n"
     ]
    }
   ],
   "source": [
    "# load data \n",
    "\n",
    "with(open(\"25_avg_folds_stim_aligned.pkl\",\"rb\")) as f:\n",
    "    import pickle\n",
    "    params,_ys,train_data_folds,test_data_folds = pickle.load(f)\n",
    "\n",
    "all_corrs_stim = get_corr_time(train_data_folds,test_data_folds,n_folds=25)\n",
    "\n",
    "\n",
    "    "
   ]
  },
  {
   "cell_type": "code",
   "execution_count": 4,
   "metadata": {},
   "outputs": [
    {
     "name": "stderr",
     "output_type": "stream",
     "text": [
      "  4%|▍         | 1/25 [03:08<1:15:14, 188.10s/it]"
     ]
    },
    {
     "name": "stdout",
     "output_type": "stream",
     "text": [
      "46 1 linalg error/nan\n",
      "100 1 linalg error/nan\n",
      "126 1 linalg error/nan\n"
     ]
    },
    {
     "name": "stderr",
     "output_type": "stream",
     "text": [
      "  8%|▊         | 2/25 [05:59<1:08:16, 178.11s/it]"
     ]
    },
    {
     "name": "stdout",
     "output_type": "stream",
     "text": [
      "30 2 linalg error/nan\n",
      "75 2 linalg error/nan\n"
     ]
    },
    {
     "name": "stderr",
     "output_type": "stream",
     "text": [
      " 12%|█▏        | 3/25 [08:44<1:03:14, 172.47s/it]"
     ]
    },
    {
     "name": "stdout",
     "output_type": "stream",
     "text": [
      "20 3 linalg error/nan\n",
      "62 3 linalg error/nan\n"
     ]
    },
    {
     "name": "stderr",
     "output_type": "stream",
     "text": [
      " 16%|█▌        | 4/25 [11:35<1:00:05, 171.69s/it]"
     ]
    },
    {
     "name": "stdout",
     "output_type": "stream",
     "text": [
      "21 4 linalg error/nan\n",
      "41 4 linalg error/nan\n"
     ]
    },
    {
     "name": "stderr",
     "output_type": "stream",
     "text": [
      " 20%|██        | 5/25 [14:19<56:21, 169.09s/it]  "
     ]
    },
    {
     "name": "stdout",
     "output_type": "stream",
     "text": [
      "21 5 linalg error/nan\n",
      "39 5 linalg error/nan\n",
      "135 5 linalg error/nan\n"
     ]
    },
    {
     "name": "stderr",
     "output_type": "stream",
     "text": [
      " 24%|██▍       | 6/25 [17:09<53:35, 169.22s/it]"
     ]
    },
    {
     "name": "stdout",
     "output_type": "stream",
     "text": [
      "94 6 linalg error/nan\n",
      "104 6 linalg error/nan\n",
      "109 6 linalg error/nan\n"
     ]
    },
    {
     "name": "stderr",
     "output_type": "stream",
     "text": [
      " 28%|██▊       | 7/25 [20:08<51:42, 172.35s/it]"
     ]
    },
    {
     "name": "stdout",
     "output_type": "stream",
     "text": [
      "8 7 linalg error/nan\n",
      "119 7 linalg error/nan\n"
     ]
    },
    {
     "name": "stderr",
     "output_type": "stream",
     "text": [
      " 32%|███▏      | 8/25 [22:52<48:06, 169.80s/it]"
     ]
    },
    {
     "name": "stdout",
     "output_type": "stream",
     "text": [
      "65 8 linalg error/nan\n",
      "72 8 linalg error/nan\n",
      "98 8 linalg error/nan\n"
     ]
    },
    {
     "name": "stderr",
     "output_type": "stream",
     "text": [
      " 36%|███▌      | 9/25 [25:37<44:54, 168.40s/it]"
     ]
    },
    {
     "name": "stdout",
     "output_type": "stream",
     "text": [
      "59 9 linalg error/nan\n",
      "62 9 linalg error/nan\n"
     ]
    },
    {
     "name": "stderr",
     "output_type": "stream",
     "text": [
      " 40%|████      | 10/25 [28:26<42:04, 168.32s/it]"
     ]
    },
    {
     "name": "stdout",
     "output_type": "stream",
     "text": [
      "56 10 linalg error/nan\n",
      "61 10 linalg error/nan\n",
      "67 10 linalg error/nan\n"
     ]
    },
    {
     "name": "stderr",
     "output_type": "stream",
     "text": [
      " 44%|████▍     | 11/25 [31:10<38:59, 167.10s/it]"
     ]
    },
    {
     "name": "stdout",
     "output_type": "stream",
     "text": [
      "9 11 linalg error/nan\n",
      "21 11 linalg error/nan\n",
      "44 11 linalg error/nan\n",
      "64 11 linalg error/nan\n",
      "76 11 linalg error/nan\n",
      "115 11 linalg error/nan\n"
     ]
    },
    {
     "name": "stderr",
     "output_type": "stream",
     "text": [
      " 48%|████▊     | 12/25 [33:54<36:02, 166.33s/it]"
     ]
    },
    {
     "name": "stdout",
     "output_type": "stream",
     "text": [
      "64 12 linalg error/nan\n"
     ]
    },
    {
     "name": "stderr",
     "output_type": "stream",
     "text": [
      " 52%|█████▏    | 13/25 [36:49<33:44, 168.73s/it]"
     ]
    },
    {
     "name": "stdout",
     "output_type": "stream",
     "text": [
      "48 13 linalg error/nan\n",
      "118 13 linalg error/nan\n"
     ]
    },
    {
     "name": "stderr",
     "output_type": "stream",
     "text": [
      " 56%|█████▌    | 14/25 [40:04<32:25, 176.84s/it]"
     ]
    },
    {
     "name": "stdout",
     "output_type": "stream",
     "text": [
      "95 14 linalg error/nan\n",
      "103 14 linalg error/nan\n",
      "118 14 linalg error/nan\n"
     ]
    },
    {
     "name": "stderr",
     "output_type": "stream",
     "text": [
      " 60%|██████    | 15/25 [42:52<29:02, 174.24s/it]"
     ]
    },
    {
     "name": "stdout",
     "output_type": "stream",
     "text": [
      "13 15 linalg error/nan\n"
     ]
    },
    {
     "name": "stderr",
     "output_type": "stream",
     "text": [
      " 64%|██████▍   | 16/25 [45:46<26:05, 173.98s/it]"
     ]
    },
    {
     "name": "stdout",
     "output_type": "stream",
     "text": [
      "0 16 linalg error/nan\n",
      "17 16 linalg error/nan\n",
      "70 16 linalg error/nan\n"
     ]
    },
    {
     "name": "stderr",
     "output_type": "stream",
     "text": [
      " 68%|██████▊   | 17/25 [48:32<22:53, 171.70s/it]"
     ]
    },
    {
     "name": "stdout",
     "output_type": "stream",
     "text": [
      "14 17 linalg error/nan\n",
      "85 17 linalg error/nan\n"
     ]
    },
    {
     "name": "stderr",
     "output_type": "stream",
     "text": [
      " 76%|███████▌  | 19/25 [54:00<16:48, 168.02s/it]"
     ]
    },
    {
     "name": "stdout",
     "output_type": "stream",
     "text": [
      "2 19 linalg error/nan\n",
      "17 19 linalg error/nan\n",
      "116 19 linalg error/nan\n"
     ]
    },
    {
     "name": "stderr",
     "output_type": "stream",
     "text": [
      " 80%|████████  | 20/25 [56:22<13:21, 160.20s/it]"
     ]
    },
    {
     "name": "stdout",
     "output_type": "stream",
     "text": [
      "7 20 linalg error/nan\n",
      "54 20 linalg error/nan\n",
      "122 20 linalg error/nan\n"
     ]
    },
    {
     "name": "stderr",
     "output_type": "stream",
     "text": [
      " 92%|█████████▏| 23/25 [1:04:56<05:38, 169.34s/it]"
     ]
    },
    {
     "name": "stdout",
     "output_type": "stream",
     "text": [
      "6 23 linalg error/nan\n",
      "100 23 linalg error/nan\n"
     ]
    },
    {
     "name": "stderr",
     "output_type": "stream",
     "text": [
      " 96%|█████████▌| 24/25 [1:07:31<02:45, 165.06s/it]"
     ]
    },
    {
     "name": "stdout",
     "output_type": "stream",
     "text": [
      "7 24 linalg error/nan\n",
      "132 24 linalg error/nan\n"
     ]
    },
    {
     "name": "stderr",
     "output_type": "stream",
     "text": [
      "100%|██████████| 25/25 [1:10:08<00:00, 168.33s/it]\n"
     ]
    }
   ],
   "source": [
    "with(open(\"100_avg_folds_response_aligned.pkl\",\"rb\")) as f:\n",
    "    import pickle\n",
    "    params,_ys,train_data_folds,test_data_folds = pickle.load(f)\n",
    "\n",
    "all_corrs_resp = get_corr_time(train_data_folds,test_data_folds,n_folds=25)"
   ]
  },
  {
   "cell_type": "code",
   "execution_count": 83,
   "metadata": {},
   "outputs": [
    {
     "data": {
      "image/png": "[encoded data removed]",
      "text/plain": [
       "<Figure size 1050x750 with 6 Axes>"
      ]
     },
     "metadata": {},
     "output_type": "display_data"
    }
   ],
   "source": [
    "from matplotlib import pyplot as plt\n",
    "\n",
    "sig_stim = (1-np.mean(all_corrs_stim>0,0))*2 <0.05\n",
    "sig_resp = (1-np.mean(all_corrs_resp>0,0))*2 <0.05\n",
    "sig_stim_resp = (1-np.mean(all_corrs_stim<np.mean(all_corrs_resp,0),0))*2 <0.05\n",
    "\n",
    "fig, axes = plt.subplots(nrows=2, ncols=3, figsize=(7*1.5,5*1.5))\n",
    "axes = axes.flatten()\n",
    "\n",
    "x_time = np.linspace(-1,1,len(all_corrs_stim[0]))\n",
    "w=10\n",
    "x_time += np.diff(x_time)[0]*w\n",
    "\n",
    "\n",
    "axes[0].plot(x_time,np.nanmean(all_corrs_resp,0),color=\"darkblue\")\n",
    "axes[0].fill_between(x_time,[np.nanpercentile(a,2.5) for a in all_corrs_resp.T],[np.nanpercentile(a,97.5) for a in all_corrs_resp.T],color='darkblue',alpha=0.2,label='response aligned (95% CI.).')\n",
    "\n",
    "\n",
    "axes[0].plot(x_time,np.nanmean(all_corrs_stim,0),color=\"darkred\")\n",
    "axes[0].fill_between(x_time,[np.nanpercentile(a,2.5) for a in all_corrs_stim.T],[np.nanpercentile(a,97.5) for a in all_corrs_stim.T],color='r',alpha=0.2,label='stim aligned (95% C.I.)')\n",
    "\n",
    "axes[0].plot(x_time[sig_stim],np.ones_like(x_time[sig_stim])*0.29,'|',color='darkred')\n",
    "axes[0].plot(x_time[sig_resp],np.ones_like(x_time[sig_resp])*0.275,'|',color='darkblue')\n",
    "axes[0].plot(x_time[sig_stim_resp],np.ones_like(x_time[sig_stim_resp])*0.26,'|',color='k')\n",
    "\n",
    "axes[0].plot(x_time,np.zeros_like(x_time),'--',color='k',alpha=0.5)\n",
    "axes[0].set_xlabel('time from alignment (s)')\n",
    "axes[0].set_ylabel('pearson correlation')\n",
    "axes[0].set_title('neural and behavioral distance\\ncorrelation time course')\n",
    "axes[0].legend()\n",
    "axes[0].set_xlim(-0.5,1)\n",
    "axes[0].set_ylim(-0.1,0.3)\n",
    "axes[0].set_yticks([-0.1,0,0.1,0.2,0.3],['',0,'','','.3'])\n",
    "axes[0].set_xticks([-0.5,-0.25,0,0.25,0.5,0.75,1],['-.5','','0','','.5','','1'])\n",
    "axes[0].legend(frameon=False)\n",
    "# change font color of legend\n",
    "leg = axes[0].get_legend()\n",
    "ltext  = leg.get_texts()\n",
    "\n",
    "plt.setp(ltext[1], color='darkred')\n",
    "plt.setp(ltext[0], color='darkblue')\n",
    "sns.despine()\n",
    "#fig.tight_layout()\n",
    "\n",
    "plt.savefig('../results/neural_behavioral_correlation_time_course.svg',dpi=300)"
   ]
  },
  {
   "cell_type": "code",
   "execution_count": null,
   "metadata": {},
   "outputs": [],
   "source": []
  }
 ],
 "metadata": {
  "kernelspec": {
   "display_name": "netrep",
   "language": "python",
   "name": "python3"
  },
  "language_info": {
   "codemirror_mode": {
    "name": "ipython",
    "version": 3
   },
   "file_extension": ".py",
   "mimetype": "text/x-python",
   "name": "python",
   "nbconvert_exporter": "python",
   "pygments_lexer": "ipython3",
   "version": "3.11.2"
  }
 },
 "nbformat": 4,
 "nbformat_minor": 2
}
