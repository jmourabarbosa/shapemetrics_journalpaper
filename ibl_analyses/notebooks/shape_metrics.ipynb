{
 "cells": [
  {
   "cell_type": "code",
   "execution_count": 19,
   "metadata": {},
   "outputs": [
    {
     "name": "stdout",
     "output_type": "stream",
     "text": [
      "The autoreload extension is already loaded. To reload it, use:\n",
      "  %reload_ext autoreload\n"
     ]
    }
   ],
   "source": [
    "# -*- coding: utf-8 -*-\n",
    "\"\"\"\n",
    "Created on Fri Aug 19 14:41:04 2022\n",
    "\n",
    "@author: Amin\n",
    "\"\"\"\n",
    "import jax.numpy as jnp\n",
    "\n",
    "import sys\n",
    "sys.path.insert(1,'..')\n",
    "import utils\n",
    "import loader\n",
    "import setup\n",
    "%load_ext autoreload\n",
    "%autoreload 2\n",
    "\n",
    "import imp"
   ]
  },
  {
   "cell_type": "code",
   "execution_count": 20,
   "metadata": {},
   "outputs": [
    {
     "name": "stderr",
     "output_type": "stream",
     "text": [
      "local md5 mismatch on dataset: cortexlab/Subjects/KS074/2021-11-22/001/alf/probe00/pykilosort/channels.brainLocationIds_ccf_2017.npy\n",
      "local md5 mismatch on dataset: cortexlab/Subjects/KS074/2021-11-22/001/alf/probe00/pykilosort/channels.mlapdv.npy\n",
      "../data/2022_Q2_IBL_et_al_RepeatedSite/cortexlab/Subjects/KS074/2021-11-22/001/alf/probe00/pykilosort/channels.brainLocationIds_ccf_2017.npy: 100%|██████████| 3.20k/3.20k [00:00<00:00, 61.0kB/s]\n",
      "../data/2022_Q2_IBL_et_al_RepeatedSite/cortexlab/Subjects/KS074/2021-11-22/001/alf/probe00/pykilosort/channels.mlapdv.npy: 100%|██████████| 4.74k/4.74k [00:00<00:00, 90.2kB/s]\n",
      "local md5 mismatch on dataset: cortexlab/Subjects/KS074/2021-11-22/001/alf/probe00/pykilosort/channels.brainLocationIds_ccf_2017.npy\n",
      "local md5 mismatch on dataset: cortexlab/Subjects/KS074/2021-11-22/001/alf/probe00/pykilosort/channels.mlapdv.npy\n",
      "../data/2022_Q2_IBL_et_al_RepeatedSite/cortexlab/Subjects/KS074/2021-11-22/001/alf/probe00/pykilosort/channels.brainLocationIds_ccf_2017.npy: 100%|██████████| 3.20k/3.20k [00:00<00:00, 63.3kB/s]\n",
      "../data/2022_Q2_IBL_et_al_RepeatedSite/cortexlab/Subjects/KS074/2021-11-22/001/alf/probe00/pykilosort/channels.mlapdv.npy: 100%|██████████| 4.74k/4.74k [00:00<00:00, 84.9kB/s]\n",
      "local md5 mismatch on dataset: cortexlab/Subjects/KS074/2021-11-22/001/alf/probe00/pykilosort/channels.brainLocationIds_ccf_2017.npy\n",
      "local md5 mismatch on dataset: cortexlab/Subjects/KS074/2021-11-22/001/alf/probe00/pykilosort/channels.mlapdv.npy\n",
      "../data/2022_Q2_IBL_et_al_RepeatedSite/cortexlab/Subjects/KS074/2021-11-22/001/alf/probe00/pykilosort/channels.brainLocationIds_ccf_2017.npy: 100%|██████████| 3.20k/3.20k [00:00<00:00, 39.2kB/s]\n",
      "../data/2022_Q2_IBL_et_al_RepeatedSite/cortexlab/Subjects/KS074/2021-11-22/001/alf/probe00/pykilosort/channels.mlapdv.npy: 100%|██████████| 4.74k/4.74k [00:00<00:00, 93.7kB/s]\n",
      "local md5 mismatch on dataset: cortexlab/Subjects/KS074/2021-11-22/001/alf/probe00/pykilosort/channels.brainLocationIds_ccf_2017.npy\n",
      "local md5 mismatch on dataset: cortexlab/Subjects/KS074/2021-11-22/001/alf/probe00/pykilosort/channels.mlapdv.npy\n",
      "../data/2022_Q2_IBL_et_al_RepeatedSite/cortexlab/Subjects/KS074/2021-11-22/001/alf/probe00/pykilosort/channels.brainLocationIds_ccf_2017.npy: 100%|██████████| 3.20k/3.20k [00:00<00:00, 56.1kB/s]\n",
      "../data/2022_Q2_IBL_et_al_RepeatedSite/cortexlab/Subjects/KS074/2021-11-22/001/alf/probe00/pykilosort/channels.mlapdv.npy: 100%|██████████| 4.74k/4.74k [00:00<00:00, 87.1kB/s]\n"
     ]
    }
   ],
   "source": [
    "\n",
    "\n",
    "dataloader = loader.IBLDataLoader(\n",
    "    setup.params,eids=setup.good_eids\n",
    ")\n",
    "\n",
    "xs,ys,rs,cs = dataloader.load_train_data()"
   ]
  },
  {
   "cell_type": "code",
   "execution_count": 14,
   "metadata": {},
   "outputs": [],
   "source": [
    "\n",
    "min_neurons = 100\n",
    "min_trials = 25\n",
    "\n",
    "valid = [i for i in range(len(ys)) if ys[i].shape[2] >= min_neurons and ys[i].shape[0] >= min_trials]\n",
    "ys = [ys[i] for i in valid]\n",
    "\n",
    "n_trials = min([y.shape[0] for y in ys])\n",
    "n_neuorns = min([y.shape[2] for y in ys])\n",
    "\n",
    "# Selection based on variance across trials\n",
    "ys = jnp.stack([y[:min_trials,:,jnp.argsort(y.mean(0).std(0))[:100]] for y in ys])\n",
    "\n"
   ]
  },
  {
   "cell_type": "code",
   "execution_count": 12,
   "metadata": {},
   "outputs": [
    {
     "name": "stdout",
     "output_type": "stream",
     "text": [
      "Subjects: 19, Trials:25, Conditions:90, Neurons:100\n"
     ]
    }
   ],
   "source": [
    "print('Subjects: {}, Trials:{}, Conditions:{}, Neurons:{}'.format(*ys.shape))\n",
    "\n",
    "S,K,C,N = ys.shape\n"
   ]
  },
  {
   "cell_type": "code",
   "execution_count": 45,
   "metadata": {},
   "outputs": [
    {
     "data": {
      "text/plain": [
       "<matplotlib.image.AxesImage at 0x7fede0670450>"
      ]
     },
     "execution_count": 45,
     "metadata": {},
     "output_type": "execute_result"
    },
    {
     "data": {
      "image/png": "[encoded data removed]",
      "text/plain": [
       "<Figure size 640x480 with 1 Axes>"
      ]
     },
     "metadata": {},
     "output_type": "display_data"
    }
   ],
   "source": [
    "\n",
    "dist_neural = utils.dsd([\n",
    "    [ys[i].mean(0),ys[j].mean(0)]\n",
    "     for i in range(len(ys)) \n",
    "     for j in range(len(ys))]\n",
    ").reshape(S,S)\n",
    "dist_neural\n",
    "\n",
    "import matplotlib.pyplot as plt\n",
    "plt.imshow(dist_neural)\n"
   ]
  },
  {
   "cell_type": "code",
   "execution_count": null,
   "metadata": {},
   "outputs": [],
   "source": [
    "\n",
    "# dist_rt = utils.ssd([\n",
    "#     [[rts[i].mean(0)[:,None], rts[i].var(0)[:,None,None]],\n",
    "#      [rts[j].mean(0)[:,None], rts[j].var(0)[:,None,None]]]\n",
    "#     for i in range(len(ys)) \n",
    "#     for j in range(len(ys))],\n",
    "#     alpha=2.,\n",
    "#     niter=1000\n",
    "# )\n",
    "\n",
    "# dist_cc = utils.ssd([\n",
    "#     [[ccs[i].mean(0)[:,None], ccs[i].var(0)[:,None,None]],\n",
    "#      [ccs[j].mean(0)[:,None], ccs[j].var(0)[:,None,None]]]\n",
    "#     for i in range(len(ys)) \n",
    "#     for j in range(len(ys))],\n",
    "#     alpha=2.,\n",
    "#     niter=1000\n",
    "# )"
   ]
  }
 ],
 "metadata": {
  "kernelspec": {
   "display_name": "netrep",
   "language": "python",
   "name": "python3"
  },
  "language_info": {
   "codemirror_mode": {
    "name": "ipython",
    "version": 3
   },
   "file_extension": ".py",
   "mimetype": "text/x-python",
   "name": "python",
   "nbconvert_exporter": "python",
   "pygments_lexer": "ipython3",
   "version": "3.11.2"
  }
 },
 "nbformat": 4,
 "nbformat_minor": 2
}
