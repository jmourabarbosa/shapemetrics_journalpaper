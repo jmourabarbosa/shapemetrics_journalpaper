{
 "cells": [
  {
   "cell_type": "code",
   "execution_count": 6,
   "metadata": {},
   "outputs": [
    {
     "name": "stdout",
     "output_type": "stream",
     "text": [
      "The autoreload extension is already loaded. To reload it, use:\n",
      "  %reload_ext autoreload\n"
     ]
    }
   ],
   "source": [
    "\n",
    "import jax.numpy as jnp\n",
    "\n",
    "import sys\n",
    "sys.path.insert(1,'../scripts/')\n",
    "\n",
    "import utils\n",
    "import loader\n",
    "import tqdm\n",
    "%load_ext autoreload\n",
    "%autoreload 2\n",
    "import imp\n",
    "imp.reload(loader)\n",
    "import setup\n",
    "import scipy.stats as sts\n",
    "from matplotlib import pyplot as plt\n",
    "\n",
    "import numpy as np"
   ]
  },
  {
   "cell_type": "code",
   "execution_count": 7,
   "metadata": {},
   "outputs": [
    {
     "name": "stderr",
     "output_type": "stream",
     "text": [
      "local md5 mismatch on dataset: cortexlab/Subjects/KS074/2021-11-22/001/alf/probe00/pykilosort/channels.brainLocationIds_ccf_2017.npy\n",
      "local md5 mismatch on dataset: cortexlab/Subjects/KS074/2021-11-22/001/alf/probe00/pykilosort/channels.mlapdv.npy\n",
      "../data/2022_Q2_IBL_et_al_RepeatedSite/cortexlab/Subjects/KS074/2021-11-22/001/alf/probe00/pykilosort/channels.brainLocationIds_ccf_2017.npy: 100%|██████████| 3.20k/3.20k [00:00<00:00, 9.38kB/s]\n",
      "../data/2022_Q2_IBL_et_al_RepeatedSite/cortexlab/Subjects/KS074/2021-11-22/001/alf/probe00/pykilosort/channels.mlapdv.npy: 100%|██████████| 4.74k/4.74k [00:00<00:00, 17.0kB/s]\n",
      "local md5 mismatch on dataset: cortexlab/Subjects/KS074/2021-11-22/001/alf/probe00/pykilosort/channels.brainLocationIds_ccf_2017.npy\n",
      "local md5 mismatch on dataset: cortexlab/Subjects/KS074/2021-11-22/001/alf/probe00/pykilosort/channels.mlapdv.npy\n",
      "../data/2022_Q2_IBL_et_al_RepeatedSite/cortexlab/Subjects/KS074/2021-11-22/001/alf/probe00/pykilosort/channels.brainLocationIds_ccf_2017.npy: 100%|██████████| 3.20k/3.20k [00:00<00:00, 11.3kB/s]\n",
      "../data/2022_Q2_IBL_et_al_RepeatedSite/cortexlab/Subjects/KS074/2021-11-22/001/alf/probe00/pykilosort/channels.mlapdv.npy: 100%|██████████| 4.74k/4.74k [00:00<00:00, 17.5kB/s]\n",
      "local md5 mismatch on dataset: cortexlab/Subjects/KS074/2021-11-22/001/alf/probe00/pykilosort/channels.brainLocationIds_ccf_2017.npy\n",
      "local md5 mismatch on dataset: cortexlab/Subjects/KS074/2021-11-22/001/alf/probe00/pykilosort/channels.mlapdv.npy\n",
      "../data/2022_Q2_IBL_et_al_RepeatedSite/cortexlab/Subjects/KS074/2021-11-22/001/alf/probe00/pykilosort/channels.brainLocationIds_ccf_2017.npy: 100%|██████████| 3.20k/3.20k [00:00<00:00, 9.75kB/s]\n",
      "../data/2022_Q2_IBL_et_al_RepeatedSite/cortexlab/Subjects/KS074/2021-11-22/001/alf/probe00/pykilosort/channels.mlapdv.npy: 100%|██████████| 4.74k/4.74k [00:00<00:00, 18.1kB/s]\n",
      "local md5 mismatch on dataset: cortexlab/Subjects/KS074/2021-11-22/001/alf/probe00/pykilosort/channels.brainLocationIds_ccf_2017.npy\n",
      "local md5 mismatch on dataset: cortexlab/Subjects/KS074/2021-11-22/001/alf/probe00/pykilosort/channels.mlapdv.npy\n",
      "../data/2022_Q2_IBL_et_al_RepeatedSite/cortexlab/Subjects/KS074/2021-11-22/001/alf/probe00/pykilosort/channels.brainLocationIds_ccf_2017.npy: 100%|██████████| 3.20k/3.20k [00:00<00:00, 11.2kB/s]\n",
      "../data/2022_Q2_IBL_et_al_RepeatedSite/cortexlab/Subjects/KS074/2021-11-22/001/alf/probe00/pykilosort/channels.mlapdv.npy: 100%|██████████| 4.74k/4.74k [00:00<00:00, 13.9kB/s]\n"
     ]
    }
   ],
   "source": [
    "\n",
    "params = {\n",
    "    'file': '../data/',\n",
    "    'tag': '2022_Q2_IBL_et_al_RepeatedSite',\n",
    "    'probe': 'probe00',\n",
    "    # 'sessions': [5,6,7,8,9,10,11,12],\n",
    "    'areas': ['CA1','DG','LP','PO','VISa'],\n",
    "    'props':{'train':.5,'test':.5,'validation':0},\n",
    "    'seeds':{'train':0,'test':1,'validation':2},\n",
    "    'n_neurons': None, # all neurons\n",
    "    'n_trials': None, # all trials\n",
    "    'pre_time':1,\n",
    "    'post_time':1,\n",
    "    'n_bins': 150,\n",
    "    'align_to': 'stim',\n",
    "    'train_trial_prop':.9, \n",
    "    'train_condition_prop':1, \n",
    "    'seed':0,\n",
    "    'verbose': False,\n",
    "    'bins_as_conds': False\n",
    "}\n",
    "\n",
    "dataloader = loader.IBLDataLoader(\n",
    "    params,eids=setup.good_eids,parallel=False\n",
    ")\n",
    "\n"
   ]
  },
  {
   "cell_type": "code",
   "execution_count": 8,
   "metadata": {},
   "outputs": [
    {
     "name": "stderr",
     "output_type": "stream",
     "text": [
      "/var/folders/6w/snfd5vc50jb775fq8364m1d80000gn/T/ipykernel_32498/4188501355.py:2: VisibleDeprecationWarning: Creating an ndarray from ragged nested sequences (which is a list-or-tuple of lists-or-tuples-or ndarrays with different lengths or shapes) is deprecated. If you meant to do this, you must specify 'dtype=object' when creating the ndarray.\n",
      "  ys = np.array(ys)\n"
     ]
    }
   ],
   "source": [
    "xs,ys,rs,cs = dataloader.load_train_data()\n",
    "ys = np.array(ys)"
   ]
  },
  {
   "cell_type": "code",
   "execution_count": 9,
   "metadata": {},
   "outputs": [],
   "source": [
    "# save data \n",
    "# with(open(\"25_avg_folds_stim_aligned.pkl\",\"wb\")) as f:\n",
    "#     import pickle\n",
    "#     pickle.dump([params,_ys,train_data_folds,test_data_folds],f)\n",
    "    "
   ]
  },
  {
   "cell_type": "code",
   "execution_count": 10,
   "metadata": {},
   "outputs": [
    {
     "name": "stderr",
     "output_type": "stream",
     "text": [
      "local md5 mismatch on dataset: cortexlab/Subjects/KS074/2021-11-22/001/alf/probe00/pykilosort/channels.brainLocationIds_ccf_2017.npy\n",
      "local md5 mismatch on dataset: cortexlab/Subjects/KS074/2021-11-22/001/alf/probe00/pykilosort/channels.mlapdv.npy\n",
      "../data/2022_Q2_IBL_et_al_RepeatedSite/cortexlab/Subjects/KS074/2021-11-22/001/alf/probe00/pykilosort/channels.brainLocationIds_ccf_2017.npy: 100%|██████████| 3.20k/3.20k [00:00<00:00, 11.4kB/s]\n",
      "../data/2022_Q2_IBL_et_al_RepeatedSite/cortexlab/Subjects/KS074/2021-11-22/001/alf/probe00/pykilosort/channels.mlapdv.npy: 100%|██████████| 4.74k/4.74k [00:00<00:00, 18.3kB/s]\n",
      "local md5 mismatch on dataset: cortexlab/Subjects/KS074/2021-11-22/001/alf/probe00/pykilosort/channels.brainLocationIds_ccf_2017.npy\n",
      "local md5 mismatch on dataset: cortexlab/Subjects/KS074/2021-11-22/001/alf/probe00/pykilosort/channels.mlapdv.npy\n",
      "../data/2022_Q2_IBL_et_al_RepeatedSite/cortexlab/Subjects/KS074/2021-11-22/001/alf/probe00/pykilosort/channels.brainLocationIds_ccf_2017.npy: 100%|██████████| 3.20k/3.20k [00:00<00:00, 11.2kB/s]\n",
      "../data/2022_Q2_IBL_et_al_RepeatedSite/cortexlab/Subjects/KS074/2021-11-22/001/alf/probe00/pykilosort/channels.mlapdv.npy: 100%|██████████| 4.74k/4.74k [00:00<00:00, 18.6kB/s]\n",
      "local md5 mismatch on dataset: cortexlab/Subjects/KS074/2021-11-22/001/alf/probe00/pykilosort/channels.brainLocationIds_ccf_2017.npy\n",
      "local md5 mismatch on dataset: cortexlab/Subjects/KS074/2021-11-22/001/alf/probe00/pykilosort/channels.mlapdv.npy\n",
      "../data/2022_Q2_IBL_et_al_RepeatedSite/cortexlab/Subjects/KS074/2021-11-22/001/alf/probe00/pykilosort/channels.brainLocationIds_ccf_2017.npy: 100%|██████████| 3.20k/3.20k [00:00<00:00, 10.8kB/s]\n",
      "../data/2022_Q2_IBL_et_al_RepeatedSite/cortexlab/Subjects/KS074/2021-11-22/001/alf/probe00/pykilosort/channels.mlapdv.npy: 100%|██████████| 4.74k/4.74k [00:00<00:00, 17.0kB/s]\n",
      "local md5 mismatch on dataset: cortexlab/Subjects/KS074/2021-11-22/001/alf/probe00/pykilosort/channels.brainLocationIds_ccf_2017.npy\n",
      "local md5 mismatch on dataset: cortexlab/Subjects/KS074/2021-11-22/001/alf/probe00/pykilosort/channels.mlapdv.npy\n",
      "../data/2022_Q2_IBL_et_al_RepeatedSite/cortexlab/Subjects/KS074/2021-11-22/001/alf/probe00/pykilosort/channels.brainLocationIds_ccf_2017.npy: 100%|██████████| 3.20k/3.20k [00:00<00:00, 12.0kB/s]\n",
      "../data/2022_Q2_IBL_et_al_RepeatedSite/cortexlab/Subjects/KS074/2021-11-22/001/alf/probe00/pykilosort/channels.mlapdv.npy: 100%|██████████| 4.74k/4.74k [00:00<00:00, 17.1kB/s]\n"
     ]
    }
   ],
   "source": [
    "params = {\n",
    "    'file': '../data/',\n",
    "    'tag': '2022_Q2_IBL_et_al_RepeatedSite',\n",
    "    'probe': 'probe00',\n",
    "    'sessions': [0,5,6],\n",
    "    'areas': ['CA1','DG','LP','PO','VISa'],\n",
    "    'props':{'train':.5,'test':.5,'validation':0},\n",
    "    'seeds':{'train':0,'test':1,'validation':2},\n",
    "    'n_neurons': None, # all neurons\n",
    "    'n_trials': None, # all trials\n",
    "    'pre_time':0,\n",
    "    'post_time':0.4,\n",
    "    'n_bins': 10,\n",
    "    'align_to': 'response',\n",
    "    'train_trial_prop':.9, \n",
    "    'train_condition_prop':1, \n",
    "    'seed':0,\n",
    "    'verbose': False,\n",
    "    'bins_as_conds': True\n",
    "    }\n",
    "\n",
    "dataloader = loader.IBLDataLoader(\n",
    "         params,eids=setup.good_eids\n",
    ")\n"
   ]
  },
  {
   "cell_type": "code",
   "execution_count": 11,
   "metadata": {},
   "outputs": [],
   "source": [
    "n_folds = 1\n",
    "\n",
    "train_data_folds, test_data_folds = dataloader.new_folds(n_folds)\n",
    "\n",
    "__train_data_folds = []\n",
    "__test_data_folds = []\n",
    "\n",
    "for i in range(n_folds):\n",
    "    _,ys,_,cs = train_data_folds[i]\n",
    "    _,ys_t,_,cs_t = test_data_folds[i]\n",
    "\n",
    "    # filter bad neurons/sessions\n",
    "    min_neurons = 100\n",
    "    min_trials = 20\n",
    "\n",
    "    valid = [i for i in range(len(ys)) if ys[i].shape[2] >= min_neurons and ys[i].shape[0] >= min_trials]\n",
    "    ys = [y[:,:,jnp.argsort(y.mean(0).std(0))[:100]] for y in ys]\n",
    "\n",
    "    ys = [ys[i].mean(0) for i in valid]\n",
    "    cs = [cs[i].mean(0) for i in valid]\n",
    "\n",
    "    ys_t = [ys_t[i].mean(0) for i in valid]\n",
    "    cs_t = [cs_t[i].mean(0) for i in valid]\n",
    "\n",
    "    S = len(ys)\n",
    "    __train_data_folds.append([ys,cs])\n",
    "    __test_data_folds.append([ys_t,cs_t])\n",
    "\n",
    "# # save pickle\n",
    "# import pickle\n",
    "# with open(\"100_folds_1_time_point.pkl\",\"wb\") as f:\n",
    "#     pickle.dump([params,__train_data_folds,__test_data_folds],f)"
   ]
  },
  {
   "cell_type": "code",
   "execution_count": 14,
   "metadata": {},
   "outputs": [
    {
     "data": {
      "text/plain": [
       "[1, 2, 3, 4, 8, 10, 13, 14, 15, 16, 19, 21, 22, 23, 24, 25, 26, 29, 31, 32]"
      ]
     },
     "execution_count": 14,
     "metadata": {},
     "output_type": "execute_result"
    }
   ],
   "source": [
    "valid"
   ]
  },
  {
   "cell_type": "code",
   "execution_count": 12,
   "metadata": {},
   "outputs": [],
   "source": [
    "# xs,ys,rs,cs = dataloader.load_train_data()\n",
    "\n",
    "# valid_cs = np.array([cs[i] for i in valid])\n",
    "# import pickle\n",
    "# with open(\"raw_behavior.pkl\",\"wb\") as f:\n",
    "#     pickle.dump(cs,f)"
   ]
  }
 ],
 "metadata": {
  "kernelspec": {
   "display_name": "netrep",
   "language": "python",
   "name": "python3"
  },
  "language_info": {
   "codemirror_mode": {
    "name": "ipython",
    "version": 3
   },
   "file_extension": ".py",
   "mimetype": "text/x-python",
   "name": "python",
   "nbconvert_exporter": "python",
   "pygments_lexer": "ipython3",
   "version": "3.11.2"
  }
 },
 "nbformat": 4,
 "nbformat_minor": 2
}
